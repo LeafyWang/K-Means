{
 "cells": [
  {
   "cell_type": "code",
   "execution_count": 1,
   "metadata": {},
   "outputs": [
    {
     "data": {
      "text/plain": [
       "'\\n2018/03/23, KMEANS multiple version\\n'"
      ]
     },
     "execution_count": 1,
     "metadata": {},
     "output_type": "execute_result"
    }
   ],
   "source": [
    "\"\"\"\n",
    "2018/03/23, KMEANS multiple version\n",
    "\"\"\""
   ]
  },
  {
   "cell_type": "code",
   "execution_count": 2,
   "metadata": {},
   "outputs": [],
   "source": [
    "# -------- import --------\n",
    "\n",
    "import math\n",
    "import time\n",
    "import copy\n",
    "import random\n",
    "\n",
    "# -------- parameters --------\n",
    "\n",
    "k             = 3\n",
    "z             = 2\n",
    "dimension     = 2\n",
    "threshold     = 5 * 1e-1\n",
    "iterationTime = 10\n",
    "\n",
    "path          = \"syntheticdata\"\n",
    "splitChar     = \" \"\n",
    "\n",
    "dataFromFile  = True  # if True, read from files; else, create a random dataset (size)\n",
    "centerChoice  = 1 # 1->random, 2->kmeans++, 3->fixed\n",
    "\n",
    "# -------- variables -------- (version 0.1)\n",
    "\n",
    "iterCount     = 0\n",
    "centers       = []\n",
    "costTotal     = 99999999\n",
    "\n",
    "outliers      = []\n",
    "timeBeg       = 0"
   ]
  },
  {
   "cell_type": "code",
   "execution_count": 3,
   "metadata": {},
   "outputs": [],
   "source": [
    "def compareCenters(cA,cB,p):\n",
    "    \"\"\"version 0.1 from KMeans PaperVersion, compare centers before and after\n",
    "            now we have two set of centers, cA=[c1A,c2A,c3A...], ciA=[d1,d2,d3...]\n",
    "            int(di*10^p), for example, if p==2, 16.87!=16.88 && 16.887==16.888\n",
    "       version 0.3 fit new data\n",
    "    \"\"\"\n",
    "    for i in range(k):\n",
    "        ciA = cA[i]\n",
    "        ciB = cB[i]\n",
    "        for j in range(dimension):\n",
    "            if int(ciA[j]*10**p)-int(ciB[j]*10**p) >=1:\n",
    "                return False\n",
    "    return True\n",
    "\n",
    "def costKM():\n",
    "    \"\"\"need to update clustering before call this function\"\"\"\n",
    "    cost = data.map(lambda x: x[-1]).reduce(lambda x,y: x+y)\n",
    "    return cost\n",
    "\n",
    "def updateCluster(u,centerT):\n",
    "    \"\"\"except outliers(x[1]==-1)\"\"\"\n",
    "    if u[1] == -1:\n",
    "        return [u[0],-1,0]\n",
    "    costMin = 9999999\n",
    "    pos     = -1\n",
    "    for i in range(k):\n",
    "        costT = sum([(u[0][j]-centerT[i][j])**2 for j in range(dimension)])\n",
    "        if costT < costMin:\n",
    "            costMin = costT\n",
    "            pos     = i\n",
    "    return [u[0],pos+1,costMin]\n",
    "    \n",
    "def isOutlier(x,standardValue):\n",
    "    \"\"\"if the cost of a point is bigger than standardValue, it's a outlier point which belongs to cluster -1\n",
    "    \"\"\"\n",
    "    if (x[-1] < standardValue):\n",
    "        return x\n",
    "    else:\n",
    "        return [x[0],-1,0]\n",
    "    \n",
    "def isOutlierTemp(x,standardValue):\n",
    "    \"\"\"version 0.5 we have a standard value, but we haven't decide to discard these points permanently.\n",
    "            if the cost of a point is bigger than standardValue, it's a outlier point\n",
    "            for those outliers, x[-1]>=standardValue, set x[1]=0, x[-1]=0\n",
    "    \"\"\"\n",
    "    if (x[-1] < standardValue):\n",
    "        return x\n",
    "    else:\n",
    "        return [x[0],0,0]\n",
    "    \n",
    "def updateClusterSwap(x,centerT,p):\n",
    "    \"\"\"except outliers(x[1]==-1)\"\"\"\n",
    "    if x[1] == -1:\n",
    "        return 0\n",
    "    \n",
    "    if x[1] != p+1 :\n",
    "        newCenter = centerT[p]\n",
    "        distance = sum([(x[0][i]-newCenter[i])**2 for i in range(dimension)])\n",
    "        if distance > x[-1]:\n",
    "            return x[-1]\n",
    "        else:\n",
    "            return distance\n",
    "    else:\n",
    "        costMin = 9999999\n",
    "        pos     = -1\n",
    "        for i in range(k):\n",
    "            costT = sum([(x[0][j]-centerT[i][j])**2 for j in range(dimension)])\n",
    "            if costT < costMin:\n",
    "                costMin = costT\n",
    "                pos = i\n",
    "        return costMin\n",
    "    \n",
    "def swap(A,centerT,i):\n",
    "    \"\"\"the swap is performed by replacing C by (C+[u])\\[v] (in fact for each u in U and each v in C)\"\"\"\n",
    "    return centerT[:i] + [A] + centerT[i+1:]\n",
    "\n",
    "def costWO(centerT,p):\n",
    "    \"\"\"\n",
    "    version 0.5 for part 3, a new center set with outliers\n",
    "    version 0.6 updateCost return 0 for outliers(lambda x:x[1]<1), hence we don't need .filter() here\n",
    "    \"\"\"\n",
    "    newData = data.map(lambda x: updateClusterSwap(x,centerT,p))\n",
    "    costSum = newData.reduce(lambda x,y:x+y) - sum(newData.top(z))\n",
    "    return costSum\n",
    "\n",
    "def confirmOutlier(x):\n",
    "    \"\"\"check isOutlierTemp\n",
    "       version 0.6 x[1]==0 -> x[1]=-1\n",
    "    \"\"\"\n",
    "    if (x[1]!=0):\n",
    "        return x\n",
    "    else:\n",
    "        return [x[0],-1,0]"
   ]
  },
  {
   "cell_type": "code",
   "execution_count": 4,
   "metadata": {},
   "outputs": [],
   "source": [
    "data = sc.textFile(path).map(lambda line: [[float(i) for i in line.split(splitChar)],0,0])\n",
    "\n",
    "# pick centers\n",
    "\n",
    "if centerChoice == 1:\n",
    "    sample = data.takeSample(False,k,random.randint(1,1000))\n",
    "    centers = [i[0] for i in sample]\n",
    "elif centerChoice == 2:\n",
    "    centers = []\n",
    "else:\n",
    "    centers = []\n",
    "    #kmeans++"
   ]
  },
  {
   "cell_type": "code",
   "execution_count": 5,
   "metadata": {},
   "outputs": [
    {
     "name": "stdout",
     "output_type": "stream",
     "text": [
      "3581.35414164 [[3.0, 25.0], [12.269565217391305, 7.869565217391305], [12.0, 16.0]]\n"
     ]
    }
   ],
   "source": [
    "timeBeg = time.time()\n",
    "\n",
    "data = data.map(lambda x: updateCluster(x,centers))\n",
    "\n",
    "standard = (data.map(lambda x:x[-1]).top(z))[-1]\n",
    "data = data.map(lambda x: isOutlier(x,standard))\n",
    "\n",
    "costTotal = costKM()\n",
    "\n",
    "while (iterationTime > iterCount):\n",
    "    \n",
    "    # centerN,costN are the best result now. centerTemp,costTemp are improved results.\n",
    "    centerN  = copy.deepcopy(centers)\n",
    "    costN = costTotal\n",
    "    \n",
    "    ########################################################\n",
    "    # -------- part 1 local search with no outliers --------\n",
    "    while (True):\n",
    "        centerTemp = copy.deepcopy(centerN)\n",
    "        # a temporary improved set of centerN : centerTemp\n",
    "        for i in range(k):\n",
    "            tempCluster = data.filter(lambda x: x[1]==i+1 ).map(lambda x:x[0])\n",
    "            sizeCluster = tempCluster.count()\n",
    "            sumCluster  = tempCluster.reduce(lambda x,y:[x[i]+y[i] for i in range(dimension)])\n",
    "            centerTemp[i]  = [sumCluster[h]/sizeCluster for h in range(dimension)]\n",
    "        # break immediately\n",
    "        if(compareCenters(centerN,centerTemp,2)):\n",
    "            break\n",
    "            \n",
    "        data.map(lambda x: updateCluster(centerTemp))\n",
    "        costTemp = costKM()\n",
    "        # for each center and non-center, perform a swap\n",
    "        listAllPoints  = data.filter(lambda x: x[1]!= -1).collect()\n",
    "        costBestSwap   = costTemp\n",
    "        centerbestSwap = copy.deepcopy(centerTemp)\n",
    "        for u in listAllPoints:\n",
    "            for swapPos in range(k):\n",
    "                centerSwap = swap(u[0],centerTemp,swapPos)\n",
    "                costSwap   = data.map(lambda x:updateClusterSwap(x,centerSwap,swapPos)).reduce(lambda x,y:x+y)\n",
    "                if costSwap < costBestSwap :\n",
    "                    costBestSwap   = costSwap\n",
    "                    centerbestSwap = swap(u[0],centerTemp,swapPos)\n",
    "        del listAllPoints\n",
    "        centerTemp = copy.deepcopy(centerbestSwap)\n",
    "        data = data.map(lambda x: updateCluster(x,centerTemp))\n",
    "\n",
    "        costTemp = data.map(lambda x:x[-1]).reduce(lambda x,y:x+y)\n",
    "        if costTemp < (1-threshold)*costN:\n",
    "            centerN = copy.deepcopy(centerTemp)\n",
    "            costN   = costTemp\n",
    "        else:\n",
    "            data = data.map(lambda x: updateCluster(x,centerN))\n",
    "            # centerN and costN don't have to change\n",
    "            break   \n",
    "            \n",
    "    # -------- part 2 cost of discarding z additional outliers --------\n",
    "    \"\"\"there is a problem: a outlier point x should belong to cluster -1, we will calculate cost without outliers\n",
    "       but we havent decide whether 'outliers' in this part should be outliers or not\n",
    "       therefore, we set these x: x[1] = 0 instead.\"\"\"\n",
    "    # find new temporary outliers (cost)\n",
    "    outlierTemp = data.map(lambda x:x[-1]).top(z)\n",
    "    if sum(outlierTemp) > threshold*costN:\n",
    "        # costTotal2 = costTotal1 - sum(...)\n",
    "        # ostTotal2 < (1-threshold)* costTotal1 <=> sum(...) > threshold*costTotal\n",
    "        data = data.map(lambda x: isOutlierTemp(x,outlierTemp[-1])) # add some temporary outliers\n",
    "        costN = costN - sum(outlierTemp)  # <=> costKM()\n",
    "    \n",
    "    # part 3\n",
    "    listAllPoints = data.filter(lambda x:[1]>0).collect()\n",
    "    \n",
    "    centerTemp = copy.deepcopy(centerN)\n",
    "    costTemp   = costN\n",
    "    for u in listAllPoints:\n",
    "        for swapPos in range(k):\n",
    "            centerSwap = swap(u[0],centerN,swapPos)\n",
    "            costSwap   = costWO(centerSwap,swapPos)\n",
    "            if costSwap < costTemp :\n",
    "                costTemp   = costSwap\n",
    "                centerTemp = copy.deepcopy(centerSwap)\n",
    "    # centerN is centers with the most improved swap\n",
    "    if(costN!=costTemp): # if there's a swap\n",
    "        centerN = copy.deepcopy(centerTemp)\n",
    "        # update data (updateCluster update those x[1]!=-1, but there exists some temporary outliers)\n",
    "        data = data.map(lambda x: x if x[1]==0 else updateCluster(x,centerN))\n",
    "        # calculate new outliers, x[1]=0 (temporary outliers)\n",
    "        standardTemp = data.map(lambda x:x[-1]).top(z)\n",
    "        data = data.map(lambda x: isOutlierTemp(x,standardTemp[-1]))\n",
    "\n",
    "    # -------- part 4 final check --------\n",
    "    # update the solution allowing additional outliers if the solution value improved significantly\n",
    "    if ( costN < (1-threshold)*costTotal ):\n",
    "        centers = copy.deepcopy(centerN)\n",
    "        data = data.map(lambda x: confirmOutlier(x))\n",
    "        costTotal = costN\n",
    "        print costTotal, centers\n",
    "    else:\n",
    "        data = data.map(lambda x: updateCluster(x,centers))\n",
    "        break\n",
    "    \n",
    "timeEnd = time.time()"
   ]
  },
  {
   "cell_type": "code",
   "execution_count": 6,
   "metadata": {},
   "outputs": [
    {
     "name": "stdout",
     "output_type": "stream",
     "text": [
      "54\n",
      "113\n",
      "128\n"
     ]
    }
   ],
   "source": [
    "for i in range(k):\n",
    "    print(data.filter(lambda x:x[1]==i+1).count())"
   ]
  },
  {
   "cell_type": "code",
   "execution_count": 7,
   "metadata": {},
   "outputs": [
    {
     "name": "stdout",
     "output_type": "stream",
     "text": [
      "[[[20.0, 1.0], -1, 0], [[19.0, 1.0], -1, 0], [[20.0, 2.0], -1, 0], [[20.0, 1.0], -1, 0], [[20.0, 1.0], -1, 0]]\n"
     ]
    }
   ],
   "source": [
    "print(data.filter(lambda x:x[1]==-1).collect())"
   ]
  },
  {
   "cell_type": "code",
   "execution_count": 8,
   "metadata": {},
   "outputs": [
    {
     "name": "stdout",
     "output_type": "stream",
     "text": [
      "571.098846912\n"
     ]
    }
   ],
   "source": [
    "print timeEnd-timeBeg"
   ]
  },
  {
   "cell_type": "code",
   "execution_count": 9,
   "metadata": {},
   "outputs": [
    {
     "name": "stdout",
     "output_type": "stream",
     "text": [
      "[[3.0, 25.0], [12.269565217391305, 7.869565217391305], [12.0, 16.0]]\n"
     ]
    }
   ],
   "source": [
    "print centers"
   ]
  },
  {
   "cell_type": "code",
   "execution_count": null,
   "metadata": {},
   "outputs": [],
   "source": []
  }
 ],
 "metadata": {
  "kernelspec": {
   "display_name": "Python 2",
   "language": "python",
   "name": "python2"
  },
  "language_info": {
   "codemirror_mode": {
    "name": "ipython",
    "version": 2
   },
   "file_extension": ".py",
   "mimetype": "text/x-python",
   "name": "python",
   "nbconvert_exporter": "python",
   "pygments_lexer": "ipython2",
   "version": "2.7.14"
  }
 },
 "nbformat": 4,
 "nbformat_minor": 2
}
