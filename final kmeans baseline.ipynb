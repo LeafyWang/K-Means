{
 "cells": [
  {
   "cell_type": "code",
   "execution_count": 1,
   "metadata": {},
   "outputs": [
    {
     "data": {
      "text/plain": [
       "'\\n2018/03/23, KMEANS multiple version\\n'"
      ]
     },
     "execution_count": 1,
     "metadata": {},
     "output_type": "execute_result"
    }
   ],
   "source": [
    "\"\"\"\n",
    "2018/03/23, KMEANS multiple version\n",
    "\"\"\""
   ]
  },
  {
   "cell_type": "code",
   "execution_count": 2,
   "metadata": {},
   "outputs": [],
   "source": [
    "# -------- import --------\n",
    "\n",
    "import math\n",
    "import time\n",
    "import copy\n",
    "import random\n",
    "\n",
    "# -------- parameters --------\n",
    "\n",
    "k             = 3\n",
    "z             = 1\n",
    "dimension     = 2\n",
    "threshold     = 1e-2\n",
    "iterationTime = 10\n",
    "\n",
    "path          = \"syntheticdata\"\n",
    "splitChar     = \" \"\n",
    "\n",
    "dataFromFile  = True  # if True, read from files; else, create a random dataset (size)\n",
    "centerChoice  = 1 # 1->random, 2->kmeans++, 3->fixed\n",
    "\n",
    "# -------- variables -------- (version 0.1)\n",
    "\n",
    "iterCount     = 0\n",
    "centers       = []\n",
    "costTotal     = 99999999\n",
    "\n",
    "outliers      = []\n",
    "timeBeg       = 0"
   ]
  },
  {
   "cell_type": "code",
   "execution_count": 3,
   "metadata": {},
   "outputs": [],
   "source": [
    "def compareCenters(cA,cB,p):\n",
    "    \"\"\"version 0.1 from KMeans PaperVersion, compare centers before and after\n",
    "            now we have two set of centers, cA=[c1A,c2A,c3A...], ciA=[d1,d2,d3...]\n",
    "            int(di*10^p), for example, if p==2, 16.87!=16.88 && 16.887==16.888\n",
    "       version 0.3 fit new data\n",
    "    \"\"\"\n",
    "    for i in range(k):\n",
    "        ciA = cA[i]\n",
    "        ciB = cB[i]\n",
    "        for j in range(dimension):\n",
    "            if int(ciA[j]*10**p)-int(ciB[j]*10**p) >=1:\n",
    "                return False\n",
    "    return True\n",
    "\n",
    "def costKM():\n",
    "    \"\"\"need to update clustering before call this function\"\"\"\n",
    "    cost = data.map(lambda x: x[-1]).reduce(lambda x,y: x+y)\n",
    "    return cost\n",
    "\n",
    "def updateCluster(u,centerT):\n",
    "    \"\"\"except outliers(x[1]==-1)\"\"\"\n",
    "    if u[1] == -1:\n",
    "        return [u[0],-1,0]\n",
    "    costMin = 9999999\n",
    "    pos     = -1\n",
    "    for i in range(k):\n",
    "        a = u[0]\n",
    "        c = centerT[i]\n",
    "        costT = sum([(a[j]-c[j])**2 for j in range(dimension)])\n",
    "        if costT < costMin:\n",
    "            costMin = costT\n",
    "            pos     = i\n",
    "    return [u[0],pos+1,costMin]\n",
    "    \n",
    "def isOutlier(x,standardValue):\n",
    "    \"\"\"if the cost of a point is bigger than standardValue, it's a outlier point which belongs to cluster -1\n",
    "    \"\"\"\n",
    "    if (x[-1] <= standardValue):\n",
    "        return x\n",
    "    else:\n",
    "        return [x[0],-1,0]\n",
    "    \n",
    "def isOutlierTemp(x,standardValue):\n",
    "    \"\"\"version 0.5 we have a standard value, but we haven't decide to discard these points permanently.\n",
    "            if the cost of a point is bigger than standardValue, it's a outlier point\n",
    "            for those outliers, x[-1]>=standardValue, set x[1]=0, x[-1]=0\n",
    "    \"\"\"\n",
    "    if (x[-1] <= standardValue):\n",
    "        return x\n",
    "    else:\n",
    "        return [x[0],0,0]\n",
    "    \n",
    "def updateClusterSwap(x,centerT,p):\n",
    "    \"\"\"except outliers(x[1]==-1)\"\"\"\n",
    "    if x[1] == -1:\n",
    "        return 0\n",
    "    \n",
    "    if x[1] != p+1 :\n",
    "        newCenter = centerT[p]\n",
    "        distance = sum([(x[0][i]-newCenter[i])**2 for i in range(dimension)])\n",
    "        if distance > x[-1]:\n",
    "            return x[-1]\n",
    "        else:\n",
    "            return distance\n",
    "    else:\n",
    "        costMin = 9999999\n",
    "        pos     = -1\n",
    "        for i in range(k):\n",
    "            costT = sum([(x[0][j]-centerT[i][j])**2 for j in range(dimension)])\n",
    "            if costT < costMin:\n",
    "                costMin = costT\n",
    "                pos = i\n",
    "        return costMin\n",
    "    \n",
    "def swap(A,centerT,i):\n",
    "    \"\"\"the swap is performed by replacing C by (C+[u])\\[v] (in fact for each u in U and each v in C)\"\"\"\n",
    "    return centerT[:i] + [A] + centerT[i+1:]\n",
    "\n",
    "def costWO(centerT,p):\n",
    "    \"\"\"\n",
    "    version 0.5 for part 3, a new center set with outliers\n",
    "    version 0.6 updateCost return 0 for outliers(lambda x:x[1]<1), hence we don't need .filter() here\n",
    "    \"\"\"\n",
    "    newData = data.map(lambda x: 0 if x[1]== 0 else updateClusterSwap(x,centerT,p))\n",
    "    costSum = newData.reduce(lambda x,y:x+y) - sum(newData.top(z))\n",
    "    newData.unpersist()\n",
    "    return costSum\n",
    "\n",
    "def confirmOutlier(x):\n",
    "    \"\"\"check isOutlierTemp\n",
    "       version 0.6 x[1]==0 -> x[1]=-1\n",
    "    \"\"\"\n",
    "    if (x[1]!=0):\n",
    "        return x\n",
    "    else:\n",
    "        return [x[0],-1,0]"
   ]
  },
  {
   "cell_type": "code",
   "execution_count": 4,
   "metadata": {},
   "outputs": [
    {
     "name": "stdout",
     "output_type": "stream",
     "text": [
      "[[11.0, 16.0], [4.0, 28.0], [15.0, 15.0]]\n"
     ]
    }
   ],
   "source": [
    "data = sc.textFile(path).map(lambda line: [[float(i) for i in line.split(splitChar)],0,0])\n",
    "\n",
    "# pick centers\n",
    "if centerChoice == 1:\n",
    "    sample = data.takeSample(False,k,1)\n",
    "    centers = [i[0] for i in sample]\n",
    "    print centers\n",
    "elif centerChoice == 2:\n",
    "    centers = []\n",
    "else:\n",
    "    centers = [[3.0, 27.0], [9.0, 16.0], [15.0, 7.0]]\n",
    "\n",
    "    #kmeans++"
   ]
  },
  {
   "cell_type": "code",
   "execution_count": 5,
   "metadata": {},
   "outputs": [
    {
     "name": "stdout",
     "output_type": "stream",
     "text": [
      "Begin: 9265.0\n",
      "PART 1,  3128.2655122 [[12.015625, 15.8984375], [2.685185185185185, 25.38888888888889], [12.338983050847459, 7.9491525423728815]]\n",
      "PART 2,  3128.2655122 [[12.015625, 15.8984375], [2.685185185185185, 25.38888888888889], [12.338983050847459, 7.9491525423728815]]\n",
      "PART 3,  3129.6170747 [[12.0, 16.0], [2.685185185185185, 25.38888888888889], [12.338983050847459, 7.9491525423728815]]\n",
      "9265.0 3129.6170747\n",
      "1 3129.6170747 [[12.0, 16.0], [2.685185185185185, 25.38888888888889], [12.338983050847459, 7.9491525423728815]]\n",
      "3129.6170747\n",
      "PART 1,  3129.6170747 [[12.0, 16.0], [2.685185185185185, 25.38888888888889], [12.338983050847459, 7.9491525423728815]]\n",
      "PART 2,  3129.6170747 [[12.0, 16.0], [2.685185185185185, 25.38888888888889], [12.338983050847459, 7.9491525423728815]]\n",
      "PART 3,  3129.6170747 [[12.0, 16.0], [2.685185185185185, 25.38888888888889], [12.338983050847459, 7.9491525423728815]]\n",
      "3129.6170747 3129.6170747\n",
      "2\n"
     ]
    }
   ],
   "source": [
    "timeBeg = time.time()\n",
    "\n",
    "data = data.map(lambda x: updateCluster(x,centers))\n",
    "\n",
    "standard = (data.map(lambda x:x[-1]).top(z+1))[-1]\n",
    "data = data.map(lambda x: isOutlier(x,standard))\n",
    "\n",
    "costTotal = costKM()\n",
    "print \"Begin:\",costTotal\n",
    "while (iterationTime > iterCount):\n",
    "    \n",
    "    iterCount += 1\n",
    "    # centerN,costN are the best result now. centerTemp,costTemp are improved results.\n",
    "    centerN  = copy.deepcopy(centers)\n",
    "    costN = costTotal\n",
    "    \n",
    "    ########################################################\n",
    "    # -------- part 1 local search with no outliers --------\n",
    "    while (True):\n",
    "        centerTemp = copy.deepcopy(centerN)\n",
    "        # a temporary improved set of centerN : centerTemp\n",
    "        for i in range(k):\n",
    "            tempCluster = data.filter(lambda x: x[1]==i+1 ).map(lambda x:x[0])\n",
    "            sizeCluster = tempCluster.count()\n",
    "            sumCluster  = tempCluster.reduce(lambda x,y:[x[i]+y[i] for i in range(dimension)])\n",
    "            centerTemp[i] = [sumCluster[h]/sizeCluster for h in range(dimension)]\n",
    "\n",
    "        data = data.map(lambda x: updateCluster(x,centerTemp)).cache()\n",
    "        costTemp = costKM()\n",
    "        \n",
    "        # for each center and non-center, perform a swap\n",
    "        listAllPoints  = data.filter(lambda x: x[1]!= -1).collect()\n",
    "        centerBestSwap = copy.deepcopy(centerTemp)\n",
    "        for u in listAllPoints:\n",
    "            for swapPos in range(k):\n",
    "                centerSwap = swap(u[0],centerTemp,swapPos)\n",
    "                costSwap   = data.map(lambda x:updateClusterSwap(x,centerSwap,swapPos)).reduce(lambda x,y:x+y)\n",
    "                if costSwap < costTemp :\n",
    "                    costTemp   = costSwap\n",
    "                    centerBestSwap = swap(u[0],centerTemp,swapPos)\n",
    "        del listAllPoints\n",
    "        \n",
    "        if costTemp < (1-threshold)*costN:\n",
    "            costN = costTemp\n",
    "            centerN = copy.deepcopy(centerBestSwap)\n",
    "            data = data.map(lambda x: updateCluster(x,centerN))\n",
    "        else:\n",
    "            data = data.map(lambda x: updateCluster(x,centerN))\n",
    "            # centerN and costN don't have to change\n",
    "            break   \n",
    "            \n",
    "    print \"PART 1, \", costN, centerN \n",
    "    \n",
    "    # -------- part 2 cost of discarding z additional outliers --------\n",
    "    \"\"\"there is a problem: a outlier point x should belong to cluster -1, we will calculate cost without outliers\n",
    "       but we havent decide whether 'outliers' in this part should be outliers or not\n",
    "       therefore, we set these x: x[1] = 0 instead.\"\"\"\n",
    "    # find new temporary outliers (cost)\n",
    "    outlierTemp = data.map(lambda x:x[-1]).top(z+1)\n",
    "    if sum(outlierTemp[:-1]) > threshold*costN:\n",
    "        # costTotal2 = costTotal1 - sum(...)\n",
    "        # ostTotal2 < (1-threshold)* costTotal1 <=> sum(...) > threshold*costTotal\n",
    "        data = data.map(lambda x: isOutlierTemp(x,outlierTemp[-1])) # add some temporary outliers\n",
    "        costN = costKM() #costN - sum(outlierTemp[:-1])  # <=> costKM()\n",
    "    print \"PART 2, \", costN, centerN     \n",
    "    # part 3\n",
    "    listAllPoints = data.filter(lambda x:x[1]>0).collect()\n",
    "    \n",
    "    centerTemp = copy.deepcopy(centerN)\n",
    "    costTemp   = costN\n",
    "    for u in listAllPoints:\n",
    "        for swapPos in range(k):\n",
    "            centerSwap = swap(u[0],centerN,swapPos)\n",
    "            costSwap   = costWO(centerSwap,swapPos)\n",
    "            if costSwap < costTemp :\n",
    "                costTemp   = costSwap\n",
    "                centerTemp = copy.deepcopy(centerSwap)\n",
    "    # centerN is centers with the most improved swap\n",
    "    centerN = copy.deepcopy(centerTemp)\n",
    "    # update data (updateCluster update those x[1]!=-1, but there exists some temporary outliers)\n",
    "    data = data.map(lambda x: x if x[1]==0 else updateCluster(x,centerN))\n",
    "    # calculate new outliers, x[1]=0 (temporary outliers)\n",
    "    standardTemp = data.map(lambda x:x[-1]).top(z+1)\n",
    "    data = data.map(lambda x: isOutlierTemp(x,standardTemp[-1]))\n",
    "    costN = costKM()\n",
    "    print \"PART 3, \", costN, centerN \n",
    "    # -------- part 4 final check --------\n",
    "    # update the solution allowing additional outliers if the solution value improved significantly\n",
    "    if ( costN < (1-threshold)*costTotal ):\n",
    "        print costTotal , costKM()\n",
    "        centers = copy.deepcopy(centerN)\n",
    "        data = data.map(lambda x: confirmOutlier(x))\n",
    "        costTotal = costN\n",
    "        print iterCount,costTotal, centers\n",
    "        print costTotal\n",
    "    else:\n",
    "        data = data.map(lambda x: updateCluster(x,centers))\n",
    "        print costTotal, costKM()\n",
    "        break\n",
    "    \n",
    "timeEnd = time.time()\n",
    "print iterCount"
   ]
  },
  {
   "cell_type": "code",
   "execution_count": 6,
   "metadata": {},
   "outputs": [
    {
     "name": "stdout",
     "output_type": "stream",
     "text": [
      "128\n",
      "54\n",
      "118\n"
     ]
    }
   ],
   "source": [
    "for i in range(k):\n",
    "    print(data.filter(lambda x:x[1]==i+1).count())"
   ]
  },
  {
   "cell_type": "code",
   "execution_count": 7,
   "metadata": {
    "scrolled": true
   },
   "outputs": [
    {
     "name": "stdout",
     "output_type": "stream",
     "text": [
      "[]\n"
     ]
    }
   ],
   "source": [
    "print(data.filter(lambda x:x[1]==-1).collect())"
   ]
  },
  {
   "cell_type": "code",
   "execution_count": 8,
   "metadata": {},
   "outputs": [
    {
     "name": "stdout",
     "output_type": "stream",
     "text": [
      "898.453989029\n"
     ]
    }
   ],
   "source": [
    "print timeEnd-timeBeg"
   ]
  },
  {
   "cell_type": "code",
   "execution_count": 9,
   "metadata": {},
   "outputs": [
    {
     "name": "stdout",
     "output_type": "stream",
     "text": [
      "[[12.0, 16.0], [2.685185185185185, 25.38888888888889], [12.338983050847459, 7.9491525423728815]]\n"
     ]
    }
   ],
   "source": [
    "print centers"
   ]
  },
  {
   "cell_type": "code",
   "execution_count": 10,
   "metadata": {},
   "outputs": [
    {
     "name": "stdout",
     "output_type": "stream",
     "text": [
      "0\n"
     ]
    }
   ],
   "source": [
    "print(data.filter(lambda x:x[1]==-1).count())"
   ]
  },
  {
   "cell_type": "code",
   "execution_count": 11,
   "metadata": {},
   "outputs": [
    {
     "name": "stdout",
     "output_type": "stream",
     "text": [
      "2\n"
     ]
    }
   ],
   "source": [
    "print iterCount"
   ]
  },
  {
   "cell_type": "code",
   "execution_count": 12,
   "metadata": {},
   "outputs": [
    {
     "name": "stdout",
     "output_type": "stream",
     "text": [
      "[[[14.0, 7.0], 3, 3.659867854064921], [[10.0, 9.0], 3, 6.575122091353063], [[15.0, 15.0], 1, 10.0], [[15.0, 17.0], 1, 10.0], [[8.0, 7.0], 3, 19.727664464234422], [[12.0, 15.0], 1, 1.0], [[2.0, 27.0], 2, 3.065157750342934], [[10.0, 16.0], 1, 4.0], [[3.0, 27.0], 2, 2.694787379972564], [[13.0, 7.0], 3, 1.3378339557598382], [[14.0, 15.0], 1, 5.0], [[9.0, 15.0], 1, 10.0], [[9.0, 11.0], 3, 20.456478023556457], [[12.0, 16.0], 1, 0.0], [[13.0, 16.0], 1, 1.0], [[10.0, 10.0], 3, 9.676817006607301], [[2.0, 27.0], 2, 3.065157750342934], [[2.0, 26.0], 2, 0.8429355281207127], [[14.0, 17.0], 1, 5.0], [[13.0, 15.0], 1, 2.0], [[12.0, 15.0], 1, 1.0], [[9.0, 15.0], 1, 10.0], [[12.0, 17.0], 1, 1.0], [[1.0, 22.0], 2, 14.324417009602197], [[9.0, 15.0], 1, 10.0], [[12.0, 15.0], 1, 1.0], [[11.0, 11.0], 3, 11.100545820166621], [[2.0, 20.0], 2, 29.509602194787384], [[2.0, 22.0], 2, 11.954046639231827], [[13.0, 10.0], 3, 4.642918701522549], [[15.0, 15.0], 1, 10.0], [[2.0, 20.0], 2, 29.509602194787384], [[8.0, 11.0], 3, 28.13444412525137], [[10.0, 7.0], 3, 6.371732260844589], [[10.0, 15.0], 1, 5.0], [[15.0, 10.0], 3, 11.286986498132716], [[11.0, 15.0], 1, 2.0], [[14.0, 15.0], 1, 5.0], [[12.0, 16.0], 1, 0.0], [[10.0, 15.0], 1, 5.0], [[9.0, 17.0], 1, 10.0], [[10.0, 8.0], 3, 5.473427176098826], [[4.0, 22.0], 2, 13.213305898491086], [[2.0, 30.0], 2, 21.731824417009598], [[14.0, 6.0], 3, 6.558172938810684], [[11.0, 17.0], 1, 2.0], [[12.0, 9.0], 3, 1.2191898879632292], [[10.0, 17.0], 1, 5.0], [[19.0, 2.0], 3, 79.76156276931914], [[9.0, 17.0], 1, 10.0], [[13.0, 17.0], 1, 2.0], [[1.0, 23.0], 2, 8.546639231824418], [[15.0, 6.0], 3, 10.880206837115766], [[9.0, 15.0], 1, 10.0], [[10.0, 16.0], 1, 4.0], [[4.0, 25.0], 2, 1.8799725651577508], [[3.0, 21.0], 2, 19.361454046639235], [[11.0, 9.0], 3, 2.8971559896581462], [[4.0, 20.0], 2, 30.768861454046643], [[10.0, 17.0], 1, 5.0], [[14.0, 16.0], 1, 4.0], [[11.0, 16.0], 1, 1.0], [[3.0, 22.0], 2, 11.583676268861456], [[12.0, 15.0], 1, 1.0], [[13.0, 16.0], 1, 1.0], [[14.0, 16.0], 1, 4.0], [[11.0, 6.0], 3, 5.592071243895435], [[8.0, 10.0], 3, 23.032749209997135], [[15.0, 15.0], 1, 10.0], [[12.0, 11.0], 3, 9.422579718471704], [[12.0, 17.0], 1, 1.0], [[12.0, 7.0], 3, 1.0158000574547552], [[11.0, 9.0], 3, 2.8971559896581462], [[10.0, 8.0], 3, 5.473427176098826], [[11.0, 17.0], 1, 2.0], [[11.0, 15.0], 1, 2.0], [[9.0, 16.0], 1, 9.0], [[2.0, 30.0], 2, 21.731824417009598], [[3.0, 20.0], 2, 29.139231824417013], [[3.0, 29.0], 2, 13.139231824417006], [[12.0, 11.0], 3, 9.422579718471704], [[20.0, 1.0], 3, 106.98190175236999], [[15.0, 6.0], 3, 10.880206837115766], [[10.0, 11.0], 3, 14.778511921861536], [[15.0, 10.0], 3, 11.286986498132716], [[9.0, 10.0], 3, 15.354783108302218], [[4.0, 27.0], 2, 4.324417009602194], [[13.0, 10.0], 3, 4.642918701522549], [[2.0, 26.0], 2, 0.8429355281207127], [[11.0, 16.0], 1, 1.0], [[3.0, 26.0], 2, 0.47256515775034247], [[14.0, 15.0], 1, 5.0], [[9.0, 16.0], 1, 9.0], [[13.0, 15.0], 1, 2.0], [[12.0, 17.0], 1, 1.0], [[15.0, 10.0], 3, 11.286986498132716], [[12.0, 16.0], 1, 0.0], [[15.0, 7.0], 3, 7.981901752370004], [[9.0, 15.0], 1, 10.0], [[4.0, 24.0], 2, 3.6577503429355294], [[3.0, 28.0], 2, 6.917009602194786], [[15.0, 10.0], 3, 11.286986498132716], [[4.0, 28.0], 2, 8.546639231824415], [[11.0, 17.0], 1, 2.0], [[11.0, 11.0], 3, 11.100545820166621], [[9.0, 15.0], 1, 10.0], [[11.0, 16.0], 1, 1.0], [[13.0, 10.0], 3, 4.642918701522549], [[15.0, 6.0], 3, 10.880206837115766], [[12.0, 7.0], 3, 1.0158000574547552], [[1.0, 29.0], 2, 15.879972565157747], [[9.0, 8.0], 3, 11.151393277793744], [[1.0, 30.0], 2, 24.10219478737997], [[13.0, 17.0], 1, 2.0], [[14.0, 16.0], 1, 4.0], [[4.0, 23.0], 2, 7.435528120713308], [[15.0, 16.0], 1, 9.0], [[12.0, 17.0], 1, 1.0], [[11.0, 15.0], 1, 2.0], [[15.0, 15.0], 1, 10.0], [[15.0, 15.0], 1, 10.0], [[8.0, 9.0], 3, 19.931054294742896], [[13.0, 11.0], 3, 9.744613616776787], [[3.0, 29.0], 2, 13.139231824417006], [[11.0, 15.0], 1, 2.0], [[11.0, 8.0], 3, 1.7954610744039092], [[8.0, 6.0], 3, 22.625969548980187], [[10.0, 8.0], 3, 5.473427176098826], [[15.0, 8.0], 3, 7.083596667624241], [[11.0, 17.0], 1, 2.0], [[4.0, 21.0], 2, 20.991083676268865], [[13.0, 11.0], 3, 9.744613616776787], [[19.0, 2.0], 3, 79.76156276931914], [[1.0, 24.0], 2, 4.76886145404664], [[13.0, 17.0], 1, 2.0], [[14.0, 9.0], 3, 3.8632576845733952], [[14.0, 7.0], 3, 3.659867854064921], [[11.0, 8.0], 3, 1.7954610744039092], [[13.0, 16.0], 1, 1.0], [[14.0, 10.0], 3, 6.964952599827633], [[8.0, 6.0], 3, 22.625969548980187], [[15.0, 15.0], 1, 10.0], [[1.0, 22.0], 2, 14.324417009602197], [[10.0, 7.0], 3, 6.371732260844589], [[14.0, 16.0], 1, 4.0], [[14.0, 15.0], 1, 5.0], [[1.0, 24.0], 2, 4.76886145404664], [[13.0, 15.0], 1, 2.0], [[8.0, 8.0], 3, 18.82935937948866], [[11.0, 15.0], 1, 2.0], [[8.0, 11.0], 3, 28.13444412525137], [[3.0, 21.0], 2, 19.361454046639235], [[13.0, 16.0], 1, 1.0], [[1.0, 29.0], 2, 15.879972565157747], [[13.0, 6.0], 3, 4.236139040505601], [[9.0, 16.0], 1, 9.0], [[13.0, 16.0], 1, 1.0], [[11.0, 11.0], 3, 11.100545820166621], [[13.0, 17.0], 1, 2.0], [[15.0, 9.0], 3, 8.185291582878477], [[1.0, 22.0], 2, 14.324417009602197], [[8.0, 9.0], 3, 19.931054294742896], [[4.0, 20.0], 2, 30.768861454046643], [[14.0, 16.0], 1, 4.0], [[15.0, 15.0], 1, 10.0], [[3.0, 30.0], 2, 21.361454046639228], [[9.0, 8.0], 3, 11.151393277793744], [[11.0, 11.0], 3, 11.100545820166621], [[15.0, 10.0], 3, 11.286986498132716], [[19.0, 2.0], 3, 79.76156276931914], [[15.0, 8.0], 3, 7.083596667624241], [[19.0, 1.0], 3, 92.65986785406491], [[14.0, 17.0], 1, 5.0], [[15.0, 9.0], 3, 8.185291582878477], [[3.0, 27.0], 2, 2.694787379972564], [[10.0, 10.0], 3, 9.676817006607301], [[10.0, 17.0], 1, 5.0], [[13.0, 17.0], 1, 2.0], [[14.0, 16.0], 1, 4.0], [[15.0, 17.0], 1, 10.0], [[12.0, 16.0], 1, 0.0], [[11.0, 16.0], 1, 1.0], [[9.0, 11.0], 3, 20.456478023556457], [[10.0, 16.0], 1, 4.0], [[10.0, 16.0], 1, 4.0], [[9.0, 16.0], 1, 9.0], [[15.0, 11.0], 3, 16.38868141338695], [[11.0, 17.0], 1, 2.0], [[8.0, 7.0], 3, 19.727664464234422], [[12.0, 15.0], 1, 1.0], [[13.0, 10.0], 3, 4.642918701522549], [[20.0, 2.0], 3, 94.08359666762422], [[3.0, 25.0], 2, 0.25034293552812104], [[11.0, 6.0], 3, 5.592071243895435], [[15.0, 17.0], 1, 10.0], [[12.0, 7.0], 3, 1.0158000574547552], [[9.0, 16.0], 1, 9.0], [[1.0, 24.0], 2, 4.76886145404664], [[15.0, 15.0], 1, 10.0], [[15.0, 9.0], 3, 8.185291582878477], [[11.0, 9.0], 3, 2.8971559896581462], [[9.0, 9.0], 3, 12.253088193047981], [[15.0, 17.0], 1, 10.0], [[14.0, 17.0], 1, 5.0], [[11.0, 16.0], 1, 1.0], [[4.0, 30.0], 2, 22.991083676268858], [[4.0, 27.0], 2, 4.324417009602194], [[13.0, 8.0], 3, 0.43952887101407523], [[11.0, 15.0], 1, 2.0], [[9.0, 15.0], 1, 10.0], [[12.0, 17.0], 1, 1.0], [[14.0, 6.0], 3, 6.558172938810684], [[15.0, 16.0], 1, 9.0], [[13.0, 6.0], 3, 4.236139040505601], [[10.0, 6.0], 3, 9.270037345590351], [[10.0, 15.0], 1, 5.0], [[9.0, 9.0], 3, 12.253088193047981], [[12.0, 16.0], 1, 0.0], [[11.0, 16.0], 1, 1.0], [[15.0, 16.0], 1, 9.0], [[9.0, 15.0], 1, 10.0], [[9.0, 15.0], 1, 10.0], [[15.0, 11.0], 3, 16.38868141338695], [[1.0, 28.0], 2, 9.657750342935525], [[14.0, 6.0], 3, 6.558172938810684], [[9.0, 15.0], 1, 10.0], [[9.0, 7.0], 3, 12.049698362539507], [[15.0, 15.0], 1, 10.0], [[3.0, 28.0], 2, 6.917009602194786], [[4.0, 21.0], 2, 20.991083676268865], [[8.0, 7.0], 3, 19.727664464234422], [[15.0, 10.0], 3, 11.286986498132716], [[14.0, 15.0], 1, 5.0], [[8.0, 6.0], 3, 22.625969548980187], [[9.0, 15.0], 1, 10.0], [[9.0, 16.0], 1, 9.0], [[4.0, 30.0], 2, 22.991083676268858], [[4.0, 30.0], 2, 22.991083676268858], [[13.0, 6.0], 3, 4.236139040505601], [[14.0, 8.0], 3, 2.7615627693191582], [[3.0, 24.0], 2, 2.0281207133058996], [[9.0, 16.0], 1, 9.0], [[15.0, 15.0], 1, 10.0], [[15.0, 8.0], 3, 7.083596667624241], [[14.0, 15.0], 1, 5.0], [[10.0, 17.0], 1, 5.0], [[12.0, 17.0], 1, 1.0], [[10.0, 6.0], 3, 9.270037345590351], [[15.0, 11.0], 3, 16.38868141338695], [[4.0, 26.0], 2, 2.1021947873799722], [[13.0, 7.0], 3, 1.3378339557598382], [[12.0, 7.0], 3, 1.0158000574547552], [[8.0, 9.0], 3, 19.931054294742896], [[15.0, 8.0], 3, 7.083596667624241], [[15.0, 17.0], 1, 10.0], [[10.0, 17.0], 1, 5.0], [[13.0, 17.0], 1, 2.0], [[9.0, 15.0], 1, 10.0], [[12.0, 15.0], 1, 1.0], [[20.0, 1.0], 3, 106.98190175236999], [[14.0, 10.0], 3, 6.964952599827633], [[13.0, 7.0], 3, 1.3378339557598382], [[13.0, 7.0], 3, 1.3378339557598382], [[13.0, 8.0], 3, 0.43952887101407523], [[12.0, 17.0], 1, 1.0], [[4.0, 28.0], 2, 8.546639231824415], [[13.0, 8.0], 3, 0.43952887101407523], [[11.0, 7.0], 3, 2.693766159149672], [[11.0, 7.0], 3, 2.693766159149672], [[12.0, 11.0], 3, 9.422579718471704], [[12.0, 10.0], 3, 4.320884803217466], [[14.0, 17.0], 1, 5.0], [[15.0, 8.0], 3, 7.083596667624241], [[4.0, 30.0], 2, 22.991083676268858], [[2.0, 30.0], 2, 21.731824417009598], [[10.0, 16.0], 1, 4.0], [[13.0, 17.0], 1, 2.0], [[12.0, 15.0], 1, 1.0], [[8.0, 8.0], 3, 18.82935937948866], [[3.0, 23.0], 2, 5.805898491083679], [[12.0, 15.0], 1, 1.0], [[14.0, 15.0], 1, 5.0], [[9.0, 9.0], 3, 12.253088193047981], [[1.0, 24.0], 2, 4.76886145404664], [[9.0, 11.0], 3, 20.456478023556457], [[14.0, 6.0], 3, 6.558172938810684], [[15.0, 9.0], 3, 8.185291582878477], [[19.0, 3.0], 3, 68.86325768457338], [[9.0, 7.0], 3, 12.049698362539507], [[14.0, 16.0], 1, 4.0], [[11.0, 15.0], 1, 2.0], [[11.0, 7.0], 3, 2.693766159149672], [[13.0, 17.0], 1, 2.0], [[10.0, 8.0], 3, 5.473427176098826], [[14.0, 15.0], 1, 5.0], [[14.0, 16.0], 1, 4.0], [[10.0, 10.0], 3, 9.676817006607301], [[20.0, 1.0], 3, 106.98190175236999], [[13.0, 17.0], 1, 2.0], [[10.0, 17.0], 1, 5.0]]\n"
     ]
    }
   ],
   "source": [
    "print data.collect()"
   ]
  },
  {
   "cell_type": "code",
   "execution_count": 13,
   "metadata": {},
   "outputs": [
    {
     "name": "stdout",
     "output_type": "stream",
     "text": [
      "3129.6170747\n"
     ]
    }
   ],
   "source": [
    "print costKM()"
   ]
  },
  {
   "cell_type": "code",
   "execution_count": 14,
   "metadata": {},
   "outputs": [
    {
     "name": "stdout",
     "output_type": "stream",
     "text": [
      "3129.6170747\n"
     ]
    }
   ],
   "source": [
    "print costTotal"
   ]
  },
  {
   "cell_type": "code",
   "execution_count": null,
   "metadata": {},
   "outputs": [],
   "source": []
  }
 ],
 "metadata": {
  "kernelspec": {
   "display_name": "Python 2",
   "language": "python",
   "name": "python2"
  },
  "language_info": {
   "codemirror_mode": {
    "name": "ipython",
    "version": 2
   },
   "file_extension": ".py",
   "mimetype": "text/x-python",
   "name": "python",
   "nbconvert_exporter": "python",
   "pygments_lexer": "ipython2",
   "version": "2.7.14"
  }
 },
 "nbformat": 4,
 "nbformat_minor": 2
}
