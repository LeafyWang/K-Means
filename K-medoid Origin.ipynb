{
 "cells": [
  {
   "cell_type": "code",
   "execution_count": 1,
   "metadata": {},
   "outputs": [],
   "source": [
    "import copy\n",
    "\n",
    "global k\n",
    "global centers"
   ]
  },
  {
   "cell_type": "code",
   "execution_count": 2,
   "metadata": {},
   "outputs": [],
   "source": [
    "# find the closest center and return its number in the list\n",
    "def costCal(a,b):\n",
    "    dimension = len(a)-1\n",
    "    distance  = 0\n",
    "    for i in range(dimension):\n",
    "        distance = distance + (a[i]-b[i])**2\n",
    "    return distance\n",
    "\n",
    "def costClu(a,listB):\n",
    "    costN = 0\n",
    "    for z in range(len(listB)):\n",
    "        costN = costN + costCal(a,listB[z])\n",
    "    return costN"
   ]
  },
  {
   "cell_type": "code",
   "execution_count": 3,
   "metadata": {},
   "outputs": [],
   "source": [
    "# find the closest center and return its number in the list\n",
    "def findCluster(point):\n",
    "    minDis = 66666 # should be a large number!!!\n",
    "    cenP = -1\n",
    "    for i in range(k):\n",
    "        disTemp = costCal(centers[i],point)\n",
    "        if disTemp < minDis:\n",
    "            cenp = i\n",
    "            minDis = disTemp\n",
    "    #costTemp += minDis\n",
    "    return cenp"
   ]
  },
  {
   "cell_type": "code",
   "execution_count": 4,
   "metadata": {},
   "outputs": [],
   "source": [
    "# find the cluster which the point belongs to\n",
    "def addCluster(point):\n",
    "    return [point[0],point[1],point[2],findCluster(point)] #findCluster(point)\n",
    "\n",
    "# update the cluster which the point belongs to\n",
    "def newCluster(point):\n",
    "    return [point[0],point[1],point[2],findCluster(point)]\n"
   ]
  },
  {
   "cell_type": "code",
   "execution_count": null,
   "metadata": {},
   "outputs": [],
   "source": [
    "def createData(num):\n",
    "    dataList = []\n",
    "    for h in range(num):\n",
    "        "
   ]
  },
  {
   "cell_type": "code",
   "execution_count": 5,
   "metadata": {},
   "outputs": [
    {
     "name": "stdout",
     "output_type": "stream",
     "text": [
      "cluster 1: 422\n",
      "cluster 2: 1578\n",
      "Data count = 2000\n"
     ]
    }
   ],
   "source": [
    "# load data\n",
    "path = \"Skin_NonSkin.txt\"\n",
    "#sData = sc.textFile(path).map(lambda line: line.split(\"\\t\")).map(lambda arr:(int(arr[0]),int(arr[1]),int(arr[2]),0)) # append the list, label the cluster\n",
    "sData = sc.textFile(path).map(lambda line: line.split(\"\\t\")).map(lambda arr:(int(arr[0]),int(arr[1]),int(arr[2]),int(arr[3])))\n",
    "# test part\n",
    "sData = sc.parallelize(sData.takeSample(False,2000,666))\n",
    "print(\"cluster 1: \" + str(sData.filter(lambda x: x[3]==1).count()))\n",
    "print(\"cluster 2: \" + str(sData.filter(lambda x: x[3]==2).count()))\n",
    "\n",
    "print(\"Data count = \" + str(sData.count()))\n"
   ]
  },
  {
   "cell_type": "code",
   "execution_count": 6,
   "metadata": {},
   "outputs": [
    {
     "name": "stdout",
     "output_type": "stream",
     "text": [
      "[(197, 196, 162, 2), (10, 9, 5, 2)]\n"
     ]
    }
   ],
   "source": [
    "# sample, k centers\n",
    "k = 2\n",
    "centers = sData.takeSample(False,k,666)\n",
    "print(centers)"
   ]
  },
  {
   "cell_type": "code",
   "execution_count": 7,
   "metadata": {
    "scrolled": false
   },
   "outputs": [
    {
     "name": "stdout",
     "output_type": "stream",
     "text": [
      "FirstRound count:2000\n",
      "[[197, 196, 162, 0], [10, 9, 5, 1]]\n",
      "First Round...\n",
      "cluster 1:1425\n",
      "cluster 2:575\n"
     ]
    }
   ],
   "source": [
    "# first iteration\n",
    "upData = sData.map(lambda x: addCluster(x)) #find a cluster for each point\n",
    "\n",
    "print(\"FirstRound count:\" + str(upData.count()))\n",
    "\n",
    "listTemp = upData.takeSample(False,k,666)\n",
    "print(listTemp)\n",
    "\n",
    "print(\"First Round...\")\n",
    "print(\"cluster 1:\" + str(upData.filter(lambda x:x[3]==0).count()))\n",
    "print(\"cluster 2:\" + str(upData.filter(lambda x:x[3]==1).count()))\n",
    "\n",
    "# calculate cost\n"
   ]
  },
  {
   "cell_type": "code",
   "execution_count": 8,
   "metadata": {},
   "outputs": [
    {
     "name": "stdout",
     "output_type": "stream",
     "text": [
      "cost12089644\n",
      "cost11988461\n",
      "cost11965225\n",
      "Round:4\n",
      "Result...\n",
      "[[166, 165, 144, 0], [48, 64, 47, 1]]\n",
      "cluster 1:1364\n",
      "cluster 2:636\n"
     ]
    }
   ],
   "source": [
    "costSum  = 9999999999 # all clusters\n",
    "costTemp = 9999999999 # converge or not\n",
    "\n",
    "costCSum = 9999999999 # a cluster\n",
    "costCTemp= 9999999999 # a cluster ,temporary\n",
    "\n",
    "roundCnt = 0\n",
    "while True:\n",
    "    roundCnt+= 1\n",
    "    costTemp = 0\n",
    "    centerTemp = []\n",
    "    for m in range(k):\n",
    "        clu = upData.filter(lambda x:x[3]==m).collect()\n",
    "        costCSum = 9999999999\n",
    "        centerPos = -1\n",
    "        for y in range(len(clu)):\n",
    "            costCTemp = costClu(clu[y],clu) \n",
    "            if costCTemp < costCSum:\n",
    "                costCSum = costCTemp\n",
    "                centerPos = y\n",
    "        costTemp   = costTemp + costCSum\n",
    "        centerTemp.append(copy.deepcopy(clu[centerPos]))\n",
    "                \n",
    "    threshold = 1e-4\n",
    "    if costTemp < (1-threshold) * costSum :\n",
    "        centers = copy.deepcopy(centerTemp)\n",
    "        costSum = costTemp\n",
    "        #now the centers have been updated\n",
    "        #re-classify\n",
    "        upData = upData.map(lambda x: newCluster(x))\n",
    "        print(\"cost\" + str(costSum))\n",
    "    else:\n",
    "        print(\"Round:\" + str(roundCnt))\n",
    "        print(\"Result...\")\n",
    "        print(centers)\n",
    "        print(\"cluster 1:\" + str(upData.filter(lambda x:x[3]==0).count()))\n",
    "        print(\"cluster 2:\" + str(upData.filter(lambda x:x[3]==1).count()))\n",
    "        break\n",
    "\n"
   ]
  }
 ],
 "metadata": {
  "kernelspec": {
   "display_name": "Python 2",
   "language": "python",
   "name": "python2"
  },
  "language_info": {
   "codemirror_mode": {
    "name": "ipython",
    "version": 2
   },
   "file_extension": ".py",
   "mimetype": "text/x-python",
   "name": "python",
   "nbconvert_exporter": "python",
   "pygments_lexer": "ipython2",
   "version": "2.7.14"
  }
 },
 "nbformat": 4,
 "nbformat_minor": 2
}
