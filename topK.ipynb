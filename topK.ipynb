{
 "cells": [
  {
   "cell_type": "code",
   "execution_count": null,
   "metadata": {},
   "outputs": [],
   "source": [
    "import time\n",
    "\n",
    "import math"
   ]
  },
  {
   "cell_type": "code",
   "execution_count": null,
   "metadata": {},
   "outputs": [],
   "source": [
    "  "
   ]
  },
  {
   "cell_type": "code",
   "execution_count": null,
   "metadata": {},
   "outputs": [],
   "source": [
    "# quick select\n",
    "def quickK(iterator):\n",
    "    tempList = []\n",
    "    for x in iterator:\n",
    "        tempList.append(x)\n",
    "    pivot = tempList[0]\n",
    "    i = 0\n",
    "    j = len(tempList)\n",
    "    tempList = quick_sort(tempList,i,j)\n",
    "    "
   ]
  },
  {
   "cell_type": "code",
   "execution_count": null,
   "metadata": {},
   "outputs": [],
   "source": []
  },
  {
   "cell_type": "code",
   "execution_count": 1,
   "metadata": {},
   "outputs": [
    {
     "ename": "NameError",
     "evalue": "name 'time' is not defined",
     "output_type": "error",
     "traceback": [
      "\u001b[0;31m---------------------------------------------------------------------------\u001b[0m",
      "\u001b[0;31mNameError\u001b[0m                                 Traceback (most recent call last)",
      "\u001b[0;32m<ipython-input-1-5fd7f24c4e6a>\u001b[0m in \u001b[0;36m<module>\u001b[0;34m()\u001b[0m\n\u001b[1;32m     29\u001b[0m         \u001b[0mquick_sort\u001b[0m\u001b[0;34m(\u001b[0m\u001b[0mi\u001b[0m\u001b[0;34m,\u001b[0m\u001b[0mr\u001b[0m\u001b[0;34m)\u001b[0m\u001b[0;34m\u001b[0m\u001b[0m\n\u001b[1;32m     30\u001b[0m \u001b[0;34m\u001b[0m\u001b[0m\n\u001b[0;32m---> 31\u001b[0;31m \u001b[0mta\u001b[0m \u001b[0;34m=\u001b[0m \u001b[0mtime\u001b[0m\u001b[0;34m.\u001b[0m\u001b[0mtime\u001b[0m\u001b[0;34m(\u001b[0m\u001b[0;34m)\u001b[0m\u001b[0;34m\u001b[0m\u001b[0m\n\u001b[0m\u001b[1;32m     32\u001b[0m \u001b[0mquick_sort\u001b[0m\u001b[0;34m(\u001b[0m\u001b[0;36m0\u001b[0m\u001b[0;34m,\u001b[0m\u001b[0mlen\u001b[0m\u001b[0;34m(\u001b[0m\u001b[0marr\u001b[0m\u001b[0;34m)\u001b[0m\u001b[0;34m-\u001b[0m\u001b[0;36m1\u001b[0m\u001b[0;34m)\u001b[0m\u001b[0;34m\u001b[0m\u001b[0m\n\u001b[1;32m     33\u001b[0m \u001b[0mtb\u001b[0m \u001b[0;34m=\u001b[0m \u001b[0mtime\u001b[0m\u001b[0;34m.\u001b[0m\u001b[0mtime\u001b[0m\u001b[0;34m(\u001b[0m\u001b[0;34m)\u001b[0m\u001b[0;34m\u001b[0m\u001b[0m\n",
      "\u001b[0;31mNameError\u001b[0m: name 'time' is not defined"
     ]
    }
   ],
   "source": [
    "import time\n",
    "# quick select (python) send array as parameters\n",
    "k = 2\n",
    "arr = [2,5,1,9,8,-1,13,7,19,0]\n",
    "def quick_sort(l,r):\n",
    "    i = l\n",
    "    j = r\n",
    "    pivot = arr[i]\n",
    "    if i>=j:\n",
    "        return \n",
    "    while(i<j):\n",
    "        while(arr[i]>=pivot):\n",
    "            i = i+1\n",
    "        while(arr[j]<pivot):\n",
    "            j = j-1\n",
    "        if(i<j):\n",
    "            t = arr[i]\n",
    "            arr[i] = arr[j]\n",
    "            arr[j] = t\n",
    "            \n",
    "    arr[l] = arr[j]\n",
    "    arr[j] = pivot\n",
    "    \n",
    "    print arr,l,r,i,j\n",
    "    \n",
    "    if i>k-1 and i<=r and j>=l:\n",
    "        quick_sort(l,j-1)\n",
    "    elif i<=r and j>=l:\n",
    "        quick_sort(l,j-1)\n",
    "        quick_sort(i,r)\n",
    "        \n",
    "ta = time.time()\n",
    "quick_sort(0,len(arr)-1)\n",
    "tb = time.time()\n",
    "print tb-ta"
   ]
  },
  {
   "cell_type": "code",
   "execution_count": 23,
   "metadata": {},
   "outputs": [
    {
     "name": "stdout",
     "output_type": "stream",
     "text": [
      "[100000]\n",
      "0.797456026077\n",
      "100000\n",
      "0.682926893234\n"
     ]
    }
   ],
   "source": [
    "import math\n",
    "import time\n",
    "import random\n",
    "\n",
    "def heapSort(iterator):\n",
    "    # len(Arr) = n, n = 2**(x+1)-1 >= k, 2**(x+1) >= k+1, x+1 >= log(k+1,2), then n\n",
    "    layer, n = calN(k)\n",
    "    heap = [0 for i in range(k)] + [999999 for i in range(n-k)]\n",
    "    for x in iterator:\n",
    "        if(x<=heap[0]):\n",
    "            continue\n",
    "        else:\n",
    "            p = 0\n",
    "            heap[p] = x\n",
    "            while(p*2+2<=n):\n",
    "                if( x <= heap[p*2+1]  and x <= heap[p*2+2] ):\n",
    "                    break\n",
    "                else:\n",
    "                    if(heap[p*2+1] < heap[p*2+2]):\n",
    "                        heap[p] = heap[p*2+1]\n",
    "                        heap[p*2+1] = x\n",
    "                        p = p*2+1\n",
    "                    else:\n",
    "                        heap[p] = heap[p*2+2]\n",
    "                        heap[p*2+2] = x\n",
    "                        p = p*2+2\n",
    "    yield heap\n",
    "\n",
    "def reduceHeap(hx,hy):\n",
    "    n = len(hx)\n",
    "    for i in range(k): #0~(n-1)\n",
    "        x = hx[n-i-1]\n",
    "        if(x<=hy[0]):\n",
    "            continue\n",
    "        else:\n",
    "            p = 0\n",
    "            hy[p] = x\n",
    "            while(p*2+2<=n):\n",
    "                if( x <= hy[p*2+1]  and x <= hy[p*2+2] ):\n",
    "                    break\n",
    "                else:\n",
    "                    if(hy[p*2+1] < hy[p*2+2]):\n",
    "                        hy[p] = hy[p*2+1]\n",
    "                        hy[p*2+1] = x\n",
    "                        p = p*2+1\n",
    "                    else:\n",
    "                        hy[p] = hy[p*2+2]\n",
    "                        hy[p*2+2] = x\n",
    "                        p = p*2+2\n",
    "    return hy\n",
    "    \n",
    "def calN(k):\n",
    "    x = int(math.ceil(math.log(k+1,2)))\n",
    "    n = 2**x-1\n",
    "    return x,n\n",
    "    \n",
    "k = 20\n",
    "a = [random.randint(1,100000) for i in range(500000)]\n",
    "\n",
    "tt = time.time()\n",
    "datat = sc.parallelize(a)\n",
    "print datat.top(1)\n",
    "ttt = time.time()\n",
    "print ttt-tt\n",
    "\n",
    "ta = time.time()\n",
    "data = sc.parallelize(a)\n",
    "topK = data.mapPartitions(heapSort).reduce(lambda x,y:reduceHeap(x,y))\n",
    "print topK[0]\n",
    "tb = time.time()\n",
    "print tb-ta\n",
    "\n"
   ]
  },
  {
   "cell_type": "code",
   "execution_count": 19,
   "metadata": {},
   "outputs": [
    {
     "name": "stdout",
     "output_type": "stream",
     "text": [
      "[999983, 999992, 1000000, 999999, 999980, 999984, 999980, 999976, 999972, 999968, 999966]\n",
      "0.38041305542\n"
     ]
    }
   ],
   "source": [
    "# quick select (pySpark)\n",
    "import time\n",
    "import random\n",
    "\n",
    "def quick_sort(arr,l,r):\n",
    "    i = l\n",
    "    j = r\n",
    "    pivot = arr[i]\n",
    "    if i>=j:\n",
    "        return arr\n",
    "    while(i<j):\n",
    "        while(arr[i]>=pivot):\n",
    "            i = i+1\n",
    "        while(arr[j]<pivot):\n",
    "            j = j-1\n",
    "        if(i<j):\n",
    "            t = arr[i]\n",
    "            arr[i] = arr[j]\n",
    "            arr[j] = t\n",
    "            \n",
    "    arr[l] = arr[j]\n",
    "    arr[j] = pivot\n",
    "    \n",
    "    if i>k-1 and i<=r and j>=l:\n",
    "        arr[l:j] = quick_sort(arr,l,j-1)[l:j]\n",
    "    elif i<=r and j>=l:\n",
    "        arr[l:j] = quick_sort(arr,l,j-1)[l:j]\n",
    "        arr[i:r+1] = quick_sort(arr,i,r)[i:r+1]\n",
    "    return arr \n",
    "\n",
    "def quickSelect(iterator):\n",
    "    lista = []\n",
    "    for x in iterator:\n",
    "        lista.append(x)\n",
    "    v = (quick_sort(lista,0,len(lista)-1))[:k-1]\n",
    "    yield v\n",
    "\n",
    "def reduceList(lx,ly):\n",
    "    l = lx+ly\n",
    "    return quick_sort(l,0,len(l)-1)[:k-1]\n",
    "    \n",
    "k = 12\n",
    "a = [random.randint(1,1000000) for i in range(500000)]\n",
    "\n",
    "ta = time.time()\n",
    "data = sc.parallelize(a)\n",
    "topK = data.mapPartitions(quickSelect).reduce(lambda x,y:reduceList(x,y))\n",
    "print topK\n",
    "tb = time.time()\n",
    "print tb-ta"
   ]
  },
  {
   "cell_type": "code",
   "execution_count": 33,
   "metadata": {},
   "outputs": [
    {
     "name": "stdout",
     "output_type": "stream",
     "text": [
      "0.0910308361053\n"
     ]
    }
   ],
   "source": [
    "# quick_select python\n",
    "k = 12\n",
    "arr = [random.randint(1,1000000) for i in range(500000)]\n",
    "def quick_sort(l,r):\n",
    "    i = l\n",
    "    j = r\n",
    "    pivot = arr[i]\n",
    "    if i>=j:\n",
    "        return \n",
    "    while(i<j):\n",
    "        while(arr[i]>=pivot):\n",
    "            i = i+1\n",
    "        while(arr[j]<pivot):\n",
    "            j = j-1\n",
    "        if(i<j):\n",
    "            t = arr[i]\n",
    "            arr[i] = arr[j]\n",
    "            arr[j] = t\n",
    "            \n",
    "    arr[l] = arr[j]\n",
    "    arr[j] = pivot\n",
    "    \n",
    "    if i>k-1 and i<=r and j>=l:\n",
    "        quick_sort(l,j-1)\n",
    "    elif i<=r and j>=l:\n",
    "        quick_sort(l,j-1)\n",
    "        quick_sort(i,r)\n",
    "        \n",
    "ta = time.time()\n",
    "quick_sort(0,len(arr)-1)\n",
    "tb = time.time()\n",
    "print tb-ta"
   ]
  },
  {
   "cell_type": "code",
   "execution_count": 34,
   "metadata": {},
   "outputs": [
    {
     "name": "stdout",
     "output_type": "stream",
     "text": [
      "[999971, 999978, 999977, 999979, 999983, 999990, 999984, 999998, 999989, 999991, 999990, 999995, 999991, 999988, 999994]\n",
      "0.0196168422699\n"
     ]
    }
   ],
   "source": [
    "def heapSort(iterator):\n",
    "    # len(Arr) = n, n = 2**(x+1)-1 >= k, 2**(x+1) >= k+1, x+1 >= log(k+1,2), then n\n",
    "    layer, n = calN(k)\n",
    "    heap = [0 for i in range(n)]\n",
    "    for x in iterator:\n",
    "        if(x<=heap[0]):\n",
    "            continue\n",
    "        else:\n",
    "            p = 0\n",
    "            heap[p] = x\n",
    "            while(p*2+2<=n):\n",
    "                if( x <= heap[p*2+1]  and x <= heap[p*2+2] ):\n",
    "                    break\n",
    "                else:\n",
    "                    if(heap[p*2+1] < heap[p*2+2]):\n",
    "                        heap[p] = heap[p*2+1]\n",
    "                        heap[p*2+1] = x\n",
    "                        p = p*2+1\n",
    "                    else:\n",
    "                        heap[p] = heap[p*2+2]\n",
    "                        heap[p*2+2] = x\n",
    "                        p = p*2+2\n",
    "    return heap\n",
    "    \n",
    "def calN(k):\n",
    "    x = int(math.ceil(math.log(k+1,2)))\n",
    "    n = 2**x-1\n",
    "    return x,n\n",
    "    \n",
    "k = 12\n",
    "a = [random.randint(1,1000000) for i in range(500000)]\n",
    "\n",
    "ta = time.time()\n",
    "print heapSort(a)\n",
    "tb = time.time()\n",
    "print tb-ta"
   ]
  },
  {
   "cell_type": "code",
   "execution_count": null,
   "metadata": {},
   "outputs": [],
   "source": []
  }
 ],
 "metadata": {
  "kernelspec": {
   "display_name": "Python 2",
   "language": "python",
   "name": "python2"
  },
  "language_info": {
   "codemirror_mode": {
    "name": "ipython",
    "version": 2
   },
   "file_extension": ".py",
   "mimetype": "text/x-python",
   "name": "python",
   "nbconvert_exporter": "python",
   "pygments_lexer": "ipython2",
   "version": "2.7.14"
  }
 },
 "nbformat": 4,
 "nbformat_minor": 2
}
