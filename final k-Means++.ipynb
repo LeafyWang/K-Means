{
 "cells": [
  {
   "cell_type": "code",
   "execution_count": 9,
   "metadata": {
    "scrolled": false
   },
   "outputs": [
    {
     "name": "stdout",
     "output_type": "stream",
     "text": [
      "[[44.0, 52.0, 20.0], [46.0, 12.0, 169.0], [107.0, 168.0, 128.0]]\n"
     ]
    }
   ],
   "source": [
    "import random\n",
    "import time\n",
    "\n",
    "k         = 3\n",
    "dimension = 3\n",
    "\n",
    "path = \"foo.txt\"\n",
    "splitChar = \" \"\n",
    "\n",
    "data = sc.textFile(path).map(lambda line: [[float(i) for i in line.split(splitChar)],0])\n",
    "centers = []\n",
    "timeA = time.time()\n",
    "centers.append(data.takeSample(False,1,random.randint(1,1000))[0][0])\n",
    "while(len(centers)!=k):\n",
    "    data = data.map(lambda x: [x[0],min([sum([(x[0][i]-c[i])**2 for i in range(dimension)]) for c in centers])])\n",
    "    sumD = data.map(lambda x:x[-1]).reduce(lambda x,y:x+y)\n",
    "    d = random.randint(1,sumD)\n",
    "    \n",
    "    datalist = data.collect()\n",
    "    for i in datalist:\n",
    "        d -= i[-1]\n",
    "        if d <= 0:\n",
    "            centers.append(i[0])\n",
    "            break\n",
    "timeB = time.time()\n",
    "print centers"
   ]
  },
  {
   "cell_type": "code",
   "execution_count": 10,
   "metadata": {},
   "outputs": [
    {
     "name": "stdout",
     "output_type": "stream",
     "text": [
      "12.2852101326\n"
     ]
    }
   ],
   "source": [
    "print timeB-timeA"
   ]
  },
  {
   "cell_type": "code",
   "execution_count": 14,
   "metadata": {},
   "outputs": [
    {
     "name": "stdout",
     "output_type": "stream",
     "text": [
      "[32.9514911175, 41.1083550454, 38.8810527325, 34.7401900292, 36.447669982899995, 46.8841969967] 38.5021593174\n",
      "[307778979.0, 189392842.20799997, 189392842.20799997, 189392842.20799997, 189392842.20799997, 189392842.20799997, 189392842.20799997, 189392842.20799997, 189392842.20799997]\n"
     ]
    }
   ],
   "source": [
    "a = 14.4359109402 + 18.5155801773\n",
    "b = 13.2317810059 + 27.8765740395\n",
    "c = 12.2946197987 + 26.5864329338\n",
    "\n",
    "d = 11.1266639233 + 23.6135261059\n",
    "e = 12.9403269291 + 23.5073430538\n",
    "f = 12.2852101326 + 34.5989868641\n",
    "\n",
    "print [a,b,c,d,e,f],sum([a,b,c,d,e,f])/6\n",
    "\n",
    "a = [262048141.0,189392728.172,189392728.172,189392728.172,189392728.172,189392728.172,189392728.172,189392728.172,189392728.172]\n",
    "b = [305773157.0,189392700.01,189392700.01,189392700.01,189392700.01,189392700.01,189392700.01,189392700.01,189392700.01]\n",
    "c = [355515639.0,189393098.442,189393098.442,189393098.442,189393098.442,189393098.442,189393098.442,189393098.442,189393098.442]\n",
    "cSum = [0 for i in range(9)]\n",
    "for i in range(9):\n",
    "    cSum[i] = (a[i] + b[i] + c[i])/3\n",
    "print cSum\n",
    "\n"
   ]
  },
  {
   "cell_type": "code",
   "execution_count": 24,
   "metadata": {},
   "outputs": [
    {
     "name": "stdout",
     "output_type": "stream",
     "text": [
      "836363859.0\n",
      "5 [836363859.0, 461227366.1158758, 289848428.8005171, 193290313.61561763, 189392700.00978732]\n",
      "39.9129331112\n"
     ]
    }
   ],
   "source": [
    "import random\n",
    "import time\n",
    "import copy\n",
    "\n",
    "k = 3\n",
    "dimension = 3\n",
    "threshold = 1e-4\n",
    "\n",
    "def updateCluster(u,centerT):\n",
    "    costMin = 999999\n",
    "    pos     = -1\n",
    "    for i in range(3):\n",
    "        cost = sum([(u[j]-centerT[i][j])**2 for j in range(3)])\n",
    "        if cost <costMin:\n",
    "            costMin = cost\n",
    "            pos = i\n",
    "    return [u,pos+1,costMin]\n",
    "\n",
    "timeE = time.time()\n",
    "data = sc.textFile(\"foo.txt\").map(lambda line: [float(i) for i in line.split(\" \")]).cache()\n",
    "#centers = [[44.0, 52.0, 20.0], [46.0, 12.0, 169.0], [107.0, 168.0, 128.0]]\n",
    "centers = data.takeSample(False,k,random.randint(1,1000))\n",
    "costlist = []\n",
    "costTotal = data.map(lambda x: updateCluster(x,centers)[-1]).reduce(lambda x,y:x+y)\n",
    "print costTotal\n",
    "costlist.append(costTotal)\n",
    "iterCount = 0\n",
    "\n",
    "while True:\n",
    "    iterCount += 1\n",
    "    centerN = copy.deepcopy(centers)\n",
    "    for i in range(k):\n",
    "        cluster = data.map(lambda x: updateCluster(x,centers)).filter(lambda x:x[1]==i+1).map(lambda x:x[0]).reduce(lambda x,y:[x[j]+y[j] for j in range(dimension)])\n",
    "        clusterSize = data.map(lambda x: updateCluster(x,centers)).filter(lambda x:x[1]==i+1).count()\n",
    "        centerN[i] = [cluster[h]/clusterSize for h in range(dimension)]\n",
    "    costN = data.map(lambda x: updateCluster(x,centerN)).map(lambda x: x[-1]).reduce(lambda x,y: x+y)\n",
    " \n",
    "    if(costN < (1-threshold)*costTotal):\n",
    "        costTotal = costN\n",
    "        costlist.append(costTotal)\n",
    "        centers = copy.deepcopy(centerN)\n",
    "    else:\n",
    "        break\n",
    "\n",
    "print iterCount, costlist\n",
    "\n",
    "timeF = time.time()\n",
    "\n",
    "print timeF-timeE"
   ]
  },
  {
   "cell_type": "code",
   "execution_count": 25,
   "metadata": {},
   "outputs": [
    {
     "name": "stdout",
     "output_type": "stream",
     "text": [
      "[1236056202.6, 599905357.3055747, 440851699.4169698, 390165168.7364962, 373856753.3130032, 373453694.2414194, 373385656.04753405, 373371303.4619545]\n",
      "43.4740831057\n"
     ]
    }
   ],
   "source": [
    "a1 = [807585875.0, 652665999.0416747, 652418238.322978, 651952844.7492521, 650768854.5589807, 649718232.6404512, 649378041.6710244, 649306278.7431269]\n",
    "t1 = 69.6942808628\n",
    "a2 = [1492729219.0, 420004224.07864124, 199384240.95665947, 189392700.00978732,189392700.00978732, 189392700.00978732, 189392700.00978732, 189392700.00978732]\n",
    "t2 = 33.4973571301\n",
    "a3 = [1530223130.0, 689564111.853937, 512402253.6531409, 270442828.3794469, 190357373.4491771, 189392700.00978732, 189392700.00978732,189392700.00978732]\n",
    "t3 = 47.8724839687\n",
    "a4 = [1409721265.0, 583657299.0962943, 189392700.00978732, 189392700.00978732, 189392700.00978732, 189392700.00978732, 189392700.00978732, 189392700.00978732]\n",
    "t4 = 25.7655501366\n",
    "a5 = [940021524.0, 653635152.457326, 650661064.1422832, 649644770.5342073, 649372138.5372837,649372138.5372837,649372138.5372837,649372138.5372837]\n",
    "t5 = 45.6077339649\n",
    "\n",
    "costs = []\n",
    "for i in range(len(a1)):\n",
    "    costs.append((a1[i]+a2[i]+a3[i]+a4[i]+a5[i])/5)\n",
    "print costs\n",
    "t6 = 34.5989868641\n",
    "t7 = 55.9014999866\n",
    "t8 = 38.4159219265\n",
    "t9 = 39.9129331112\n",
    "print sum([t1,t2,t3,t4,t5,t6,t7,t8,t9])/9"
   ]
  },
  {
   "cell_type": "code",
   "execution_count": 16,
   "metadata": {},
   "outputs": [
    {
     "name": "stdout",
     "output_type": "stream",
     "text": [
      "[[34.0, 57.0, 178.0], [16.0, 30.0, 28.0], [79.0, 52.0, 168.0]]\n"
     ]
    }
   ],
   "source": [
    "# no store\n",
    "import random\n",
    "import time\n",
    "\n",
    "k         = 3\n",
    "dimension = 3\n",
    "\n",
    "path = \"foo.txt\"\n",
    "splitChar = \" \"\n",
    "\n",
    "data = sc.textFile(path).map(lambda line: [[float(i) for i in line.split(splitChar)],0])\n",
    "centers = []\n",
    "timeA = time.time()\n",
    "centers.append(data.takeSample(False,1,random.randint(1,1000))[0][0])\n",
    "while(len(centers)!=k):\n",
    "    sumD = data.map(lambda x: [x[0],min([sum([(x[0][i]-c[i])**2 for i in range(dimension)]) for c in centers])]).map(lambda x:x[-1]).reduce(lambda x,y:x+y)\n",
    "    d = random.randint(1,sumD)\n",
    "    \n",
    "    datalist = data.map(lambda x: [x[0],min([sum([(x[0][i]-c[i])**2 for i in range(dimension)]) for c in centers])]).collect()\n",
    "    for i in datalist:\n",
    "        d -= i[-1]\n",
    "        if d <= 0:\n",
    "            centers.append(i[0])\n",
    "            break\n",
    "timeB = time.time()\n",
    "print centers"
   ]
  },
  {
   "cell_type": "code",
   "execution_count": 17,
   "metadata": {},
   "outputs": [
    {
     "name": "stdout",
     "output_type": "stream",
     "text": [
      "14.3522219658\n"
     ]
    }
   ],
   "source": [
    "print timeB-timeA"
   ]
  },
  {
   "cell_type": "code",
   "execution_count": null,
   "metadata": {},
   "outputs": [],
   "source": []
  }
 ],
 "metadata": {
  "kernelspec": {
   "display_name": "Python 2",
   "language": "python",
   "name": "python2"
  },
  "language_info": {
   "codemirror_mode": {
    "name": "ipython",
    "version": 2
   },
   "file_extension": ".py",
   "mimetype": "text/x-python",
   "name": "python",
   "nbconvert_exporter": "python",
   "pygments_lexer": "ipython2",
   "version": "2.7.14"
  }
 },
 "nbformat": 4,
 "nbformat_minor": 2
}
