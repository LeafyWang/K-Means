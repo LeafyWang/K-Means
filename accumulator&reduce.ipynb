{
 "cells": [
  {
   "cell_type": "code",
   "execution_count": 1,
   "metadata": {},
   "outputs": [
    {
     "name": "stdout",
     "output_type": "stream",
     "text": [
      "15\n"
     ]
    }
   ],
   "source": [
    "# accumulator\n",
    "data = sc.parallelize([1,2,3,4,5])\n",
    "sumdata = sc.accumulator(0)\n",
    "\n",
    "def sumTest(x):\n",
    "    global sumdata\n",
    "    sumdata += x\n",
    "    #return 0\n",
    "    \n",
    "data.foreach(lambda x: sumTest(x))\n",
    "print sumdata"
   ]
  },
  {
   "cell_type": "code",
   "execution_count": 2,
   "metadata": {},
   "outputs": [
    {
     "name": "stdout",
     "output_type": "stream",
     "text": [
      "50485609\n",
      "1.81267380714\n"
     ]
    }
   ],
   "source": [
    "import random\n",
    "import time\n",
    "\n",
    "datalist = [random.randint(1,100) for i in range(1000000)]\n",
    "\n",
    "# accumulator test\n",
    "timeA = time.time()\n",
    "acc = sc.accumulator(0)\n",
    "\n",
    "def accTest(x):\n",
    "    global acc\n",
    "    acc += x\n",
    "\n",
    "sc.parallelize(datalist).foreach(accTest)\n",
    "print acc\n",
    "\n",
    "timeB = time.time()\n",
    "print timeB-timeA"
   ]
  },
  {
   "cell_type": "code",
   "execution_count": 3,
   "metadata": {},
   "outputs": [
    {
     "name": "stdout",
     "output_type": "stream",
     "text": [
      "50437196\n",
      "1.08102798462\n"
     ]
    }
   ],
   "source": [
    "import random\n",
    "import time\n",
    "\n",
    "datalist = [random.randint(1,100) for i in range(1000000)]\n",
    "\n",
    "def redTest(x,y):\n",
    "    return x+y\n",
    "\n",
    "# reduce test\n",
    "timeC = time.time()\n",
    "acc = sc.parallelize(datalist).reduce(lambda x,y:redTest(x,y))\n",
    "print acc\n",
    "timeD = time.time()\n",
    "print timeD-timeC"
   ]
  },
  {
   "cell_type": "code",
   "execution_count": 7,
   "metadata": {},
   "outputs": [
    {
     "name": "stdout",
     "output_type": "stream",
     "text": [
      "0\n",
      "0.0692729949951\n"
     ]
    }
   ],
   "source": [
    "import random\n",
    "import time\n",
    "\n",
    "datalist = [random.randint(1,100) for i in range(1000000)]\n",
    "\n",
    "# accumulator test\n",
    "timeA = time.time()\n",
    "acc = sc.accumulator(0)\n",
    "\n",
    "def accTest(x):\n",
    "    global acc\n",
    "    acc += x\n",
    "    return x\n",
    "\n",
    "data = sc.parallelize(datalist).map(lambda x: accTest(x))\n",
    "print acc\n",
    "\n",
    "timeB = time.time()\n",
    "print timeB-timeA"
   ]
  },
  {
   "cell_type": "code",
   "execution_count": null,
   "metadata": {},
   "outputs": [],
   "source": []
  }
 ],
 "metadata": {
  "kernelspec": {
   "display_name": "Python 2",
   "language": "python",
   "name": "python2"
  },
  "language_info": {
   "codemirror_mode": {
    "name": "ipython",
    "version": 2
   },
   "file_extension": ".py",
   "mimetype": "text/x-python",
   "name": "python",
   "nbconvert_exporter": "python",
   "pygments_lexer": "ipython2",
   "version": "2.7.14"
  }
 },
 "nbformat": 4,
 "nbformat_minor": 2
}
